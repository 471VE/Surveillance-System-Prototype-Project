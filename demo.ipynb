{
 "cells": [
  {
   "cell_type": "code",
   "execution_count": 1,
   "metadata": {},
   "outputs": [],
   "source": [
    "from real_time_single import run_single_video\n",
    "from real_time_all import run_all_videos"
   ]
  },
  {
   "cell_type": "code",
   "execution_count": 2,
   "metadata": {},
   "outputs": [
    {
     "name": "stdout",
     "output_type": "stream",
     "text": [
      "Choosing option 0 - Detections provided by MOT benchmarks...\n",
      "\n",
      "Choosing option 0 - Deafult DeepSORT feature extractor...\n",
      "\n"
     ]
    },
    {
     "ename": "FileNotFoundError",
     "evalue": "[WinError 3] The system cannot find the path specified: './MOT_custom --display=False'",
     "output_type": "error",
     "traceback": [
      "\u001b[1;31m---------------------------------------------------------------------------\u001b[0m",
      "\u001b[1;31mFileNotFoundError\u001b[0m                         Traceback (most recent call last)",
      "\u001b[1;32md:\\Documents\\Master of CV\\DL in CV\\demo.ipynb Cell 2\u001b[0m in \u001b[0;36m<cell line: 1>\u001b[1;34m()\u001b[0m\n\u001b[1;32m----> <a href='vscode-notebook-cell:/d%3A/Documents/Master%20of%20CV/DL%20in%20CV/demo.ipynb#ch0000001?line=0'>1</a>\u001b[0m run_all_videos(display\u001b[39m=\u001b[39;49m\u001b[39m'\u001b[39;49m\u001b[39mFalse\u001b[39;49m\u001b[39m'\u001b[39;49m)\n",
      "File \u001b[1;32md:\\Documents\\Master of CV\\DL in CV\\real_time_all.py:59\u001b[0m, in \u001b[0;36mrun_all_videos\u001b[1;34m(path, display)\u001b[0m\n\u001b[0;32m     58\u001b[0m \u001b[39mdef\u001b[39;00m \u001b[39mrun_all_videos\u001b[39m(path\u001b[39m=\u001b[39m\u001b[39m'\u001b[39m\u001b[39m./MOT_custom\u001b[39m\u001b[39m'\u001b[39m, display\u001b[39m=\u001b[39m\u001b[39m'\u001b[39m\u001b[39mTrue\u001b[39m\u001b[39m'\u001b[39m):\n\u001b[1;32m---> 59\u001b[0m     main(parse_args([\u001b[39mf\u001b[39;49m\u001b[39m'\u001b[39;49m\u001b[39m--mot_dir=\u001b[39;49m\u001b[39m{\u001b[39;49;00mpath\u001b[39m}\u001b[39;49;00m\u001b[39m --display=\u001b[39;49m\u001b[39m{\u001b[39;49;00mdisplay\u001b[39m}\u001b[39;49;00m\u001b[39m'\u001b[39;49m]))\n",
      "File \u001b[1;32md:\\Documents\\Master of CV\\DL in CV\\real_time_all.py:45\u001b[0m, in \u001b[0;36mmain\u001b[1;34m(args)\u001b[0m\n\u001b[0;32m     43\u001b[0m \u001b[39mdef\u001b[39;00m \u001b[39mmain\u001b[39m(args):\n\u001b[0;32m     44\u001b[0m     detection_mode, encoder, output_dir \u001b[39m=\u001b[39m initial_setup()\n\u001b[1;32m---> 45\u001b[0m     sequences \u001b[39m=\u001b[39m os\u001b[39m.\u001b[39;49mlistdir(args\u001b[39m.\u001b[39;49mmot_dir)\n\u001b[0;32m     47\u001b[0m     \u001b[39mfor\u001b[39;00m sequence \u001b[39min\u001b[39;00m sequences:\n\u001b[0;32m     48\u001b[0m         sequence_dir \u001b[39m=\u001b[39m os\u001b[39m.\u001b[39mpath\u001b[39m.\u001b[39mjoin(args\u001b[39m.\u001b[39mmot_dir, sequence)\n",
      "\u001b[1;31mFileNotFoundError\u001b[0m: [WinError 3] The system cannot find the path specified: './MOT_custom --display=False'"
     ]
    }
   ],
   "source": [
    "run_all_videos(display='False')"
   ]
  },
  {
   "cell_type": "code",
   "execution_count": null,
   "metadata": {},
   "outputs": [],
   "source": []
  }
 ],
 "metadata": {
  "kernelspec": {
   "display_name": "Python 3 (ipykernel)",
   "language": "python",
   "name": "python3"
  },
  "language_info": {
   "codemirror_mode": {
    "name": "ipython",
    "version": 3
   },
   "file_extension": ".py",
   "mimetype": "text/x-python",
   "name": "python",
   "nbconvert_exporter": "python",
   "pygments_lexer": "ipython3",
   "version": "3.9.12"
  },
  "vscode": {
   "interpreter": {
    "hash": "61664634d154c351e2c173f127cc47d65756f4b0b2f687b1fc6c443b44e7b0de"
   }
  }
 },
 "nbformat": 4,
 "nbformat_minor": 2
}
